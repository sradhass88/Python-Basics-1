{
  "nbformat": 4,
  "nbformat_minor": 0,
  "metadata": {
    "colab": {
      "provenance": [],
      "authorship_tag": "ABX9TyP1cQj7Sl+m4ySlRJwyNpBo",
      "include_colab_link": true
    },
    "kernelspec": {
      "name": "python3",
      "display_name": "Python 3"
    },
    "language_info": {
      "name": "python"
    }
  },
  "cells": [
    {
      "cell_type": "markdown",
      "metadata": {
        "id": "view-in-github",
        "colab_type": "text"
      },
      "source": [
        "<a href=\"https://colab.research.google.com/github/sradhass88/Python-Basics-1/blob/main/SRADHA__Python_Basics_Assignment_1.ipynb\" target=\"_parent\"><img src=\"https://colab.research.google.com/assets/colab-badge.svg\" alt=\"Open In Colab\"/></a>"
      ]
    },
    {
      "cell_type": "code",
      "execution_count": 2,
      "metadata": {
        "colab": {
          "base_uri": "https://localhost:8080/"
        },
        "id": "Tt8GixCg_5Ga",
        "outputId": "085366e8-b604-4863-c361-e1f756ad382d"
      },
      "outputs": [
        {
          "output_type": "stream",
          "name": "stdout",
          "text": [
            "Enter the radius 3\n",
            "Area of Circle is 28.259999999999998\n"
          ]
        }
      ],
      "source": [
        "num = int(input(\"Enter the radius \"))\n",
        "print(\"Area of Circle is\",3.14*num*num)"
      ]
    },
    {
      "cell_type": "code",
      "source": [
        "name = input(\"Enter the name: \")\n",
        "roll_number = int(input(\"Enter the roll number: \"))\n",
        "mark = float(input(\"Enter the mark: \"))\n",
        "\n",
        "print(f\"Name: \",name)\n",
        "print(f\"Roll No: \",roll_number)\n",
        "print(f\"Mark: \",mark)"
      ],
      "metadata": {
        "colab": {
          "base_uri": "https://localhost:8080/"
        },
        "id": "YwAm3PrVCE2o",
        "outputId": "049cdb54-e206-48f8-aacb-e03259506db9"
      },
      "execution_count": null,
      "outputs": [
        {
          "output_type": "stream",
          "name": "stdout",
          "text": [
            "Enter the name: Anisha\n",
            "Enter the roll number: 21\n",
            "Enter the mark: 78\n",
            "Name:  Anisha\n",
            "Roll No:  21\n",
            "Mark:  78.0\n"
          ]
        }
      ]
    },
    {
      "cell_type": "code",
      "source": [
        "def find_largest_number(numbers):\n",
        "    if not numbers:\n",
        "        return \"List is empty\"\n",
        "    largest = numbers[0]\n",
        "    for num in numbers:\n",
        "        if num > largest:\n",
        "            largest = num\n",
        "    return f\"{largest} is the largest number.\"\n",
        "numbers = [12,3,47,10]\n",
        "print(find_largest_number(numbers))"
      ],
      "metadata": {
        "id": "CZ6uvbQxEfKt",
        "colab": {
          "base_uri": "https://localhost:8080/"
        },
        "outputId": "5adb3924-8124-490d-8dd3-f54baa408e8e"
      },
      "execution_count": 48,
      "outputs": [
        {
          "output_type": "stream",
          "name": "stdout",
          "text": [
            "47 is the largest number.\n"
          ]
        }
      ]
    },
    {
      "cell_type": "code",
      "source": [
        "def find_largest_number(numbers):\n",
        "    if not numbers:\n",
        "        return \"List is empty\"\n",
        "\n",
        "    largest = max(numbers)\n",
        "    return f\"{largest} is the largest number.\"\n",
        "\n",
        "numbers = [12,3,47,10]\n",
        "\n",
        "print(find_largest_number(numbers))"
      ],
      "metadata": {
        "colab": {
          "base_uri": "https://localhost:8080/"
        },
        "id": "BXUBh6qeGe-Z",
        "outputId": "946280cd-95d6-487e-f7a8-c72bc978ca75"
      },
      "execution_count": 47,
      "outputs": [
        {
          "output_type": "stream",
          "name": "stdout",
          "text": [
            "47 is the largest number.\n"
          ]
        }
      ]
    },
    {
      "cell_type": "code",
      "source": [
        "previous_number = None\n",
        "for current_number in range(0, 11):\n",
        "   if previous_number is None:\n",
        "    pass\n",
        "   else:\n",
        "    print(f\"Current number: {current_number}, Previous number: {previous_number}, Sum: {current_number + previous_number}\")\n",
        "   previous_number = current_number"
      ],
      "metadata": {
        "id": "LeCC_YxCEpoq",
        "colab": {
          "base_uri": "https://localhost:8080/"
        },
        "outputId": "5154a7b6-4f4f-4d0b-c430-0fdf8d91047e"
      },
      "execution_count": 59,
      "outputs": [
        {
          "output_type": "stream",
          "name": "stdout",
          "text": [
            "Current number: 1, Previous number: 0, Sum: 1\n",
            "Current number: 2, Previous number: 1, Sum: 3\n",
            "Current number: 3, Previous number: 2, Sum: 5\n",
            "Current number: 4, Previous number: 3, Sum: 7\n",
            "Current number: 5, Previous number: 4, Sum: 9\n",
            "Current number: 6, Previous number: 5, Sum: 11\n",
            "Current number: 7, Previous number: 6, Sum: 13\n",
            "Current number: 8, Previous number: 7, Sum: 15\n",
            "Current number: 9, Previous number: 8, Sum: 17\n",
            "Current number: 10, Previous number: 9, Sum: 19\n"
          ]
        }
      ]
    },
    {
      "cell_type": "code",
      "source": [
        "def print_divisible_by_5(numbers):\n",
        "    for num in numbers:\n",
        "        if num % 5 == 0:\n",
        "            print(num)\n",
        "numbers = [10,20,33,46,55 ]\n",
        "print(\"Numbers divisible by 5:\")\n",
        "print_divisible_by_5(numbers)"
      ],
      "metadata": {
        "colab": {
          "base_uri": "https://localhost:8080/"
        },
        "id": "jo1CfrHnKDFy",
        "outputId": "79a68c57-13e7-42b4-88ab-c35efc220c0f"
      },
      "execution_count": 63,
      "outputs": [
        {
          "output_type": "stream",
          "name": "stdout",
          "text": [
            "Numbers divisible by 5:\n",
            "10\n",
            "20\n",
            "55\n"
          ]
        }
      ]
    },
    {
      "cell_type": "code",
      "source": [
        "def print_pattern(rows):\n",
        "    for i in range(1, rows + 1):\n",
        "        print('*' * i)\n",
        "num_rows = 4\n",
        "print_pattern(num_rows)"
      ],
      "metadata": {
        "colab": {
          "base_uri": "https://localhost:8080/"
        },
        "id": "8sw2HM8gLDZ7",
        "outputId": "961ecbb1-9eee-4f24-f0f6-870330b7b6fb"
      },
      "execution_count": 65,
      "outputs": [
        {
          "output_type": "stream",
          "name": "stdout",
          "text": [
            "*\n",
            "**\n",
            "***\n",
            "****\n"
          ]
        }
      ]
    },
    {
      "cell_type": "code",
      "source": [
        "n = int(input('Enter the number: '))\n",
        "\n",
        "if n > 1:\n",
        "    for i in range(2, n):\n",
        "        if n % i == 0:\n",
        "            print(n, 'is not a prime number')\n",
        "            break\n",
        "    else:\n",
        "        print(n, 'is a prime number')\n",
        "else:\n",
        "    print(n, 'is not a prime number')"
      ],
      "metadata": {
        "colab": {
          "base_uri": "https://localhost:8080/"
        },
        "id": "JzJPAHvWOBdx",
        "outputId": "7077bf76-65a8-49d7-9515-dba1635ce70e"
      },
      "execution_count": 80,
      "outputs": [
        {
          "output_type": "stream",
          "name": "stdout",
          "text": [
            "Enter the number: 5\n",
            "5 is a prime number\n"
          ]
        }
      ]
    },
    {
      "cell_type": "code",
      "source": [
        "original_list = [10,40,30,70]\n",
        "reversed_list = []\n",
        "for num in original_list[::-1]:\n",
        "  reversed_list.append(num)\n",
        "\n",
        "print(f\"Original list: {original_list}\")\n",
        "print(f\"Reversed list: {reversed_list}\")"
      ],
      "metadata": {
        "colab": {
          "base_uri": "https://localhost:8080/"
        },
        "id": "lNdBNKPJP_19",
        "outputId": "34b1670d-901d-4ba0-93fa-458caa62898a"
      },
      "execution_count": 86,
      "outputs": [
        {
          "output_type": "stream",
          "name": "stdout",
          "text": [
            "Original list: [10, 40, 30, 70]\n",
            "Reversed list: [70, 30, 40, 10]\n"
          ]
        }
      ]
    },
    {
      "cell_type": "code",
      "source": [
        "def find_max(num1, num2, num3):\n",
        "  if num1>=num2 and num1>=num3:\n",
        "    return num1\n",
        "  elif num2>=num1 and num2>=num3:\n",
        "    return num2\n",
        "  else:\n",
        "    return num3\n",
        "num1 = int(input(\"Enter the first number: \"))\n",
        "num2 = int(input(\"Enter the second number: \"))\n",
        "num3 = int(input(\"Enter the third number: \"))\n",
        "\n",
        "max_number = find_max(num1, num2, num3)\n",
        "print(f\"The maximum number is: {max_number}\")"
      ],
      "metadata": {
        "colab": {
          "base_uri": "https://localhost:8080/"
        },
        "id": "qmohReizQ8Z4",
        "outputId": "ee02b05b-4853-419e-f697-3562be9d9483"
      },
      "execution_count": 91,
      "outputs": [
        {
          "output_type": "stream",
          "name": "stdout",
          "text": [
            "Enter the first number: 34\n",
            "Enter the second number: 2\n",
            "Enter the third number: 7\n",
            "The maximum number is: 34\n"
          ]
        }
      ]
    },
    {
      "cell_type": "code",
      "source": [
        "def print_pattern(rows):\n",
        "    for i in range(1, rows * 2):\n",
        "        if i <= rows:\n",
        "            print('*' * i)\n",
        "        else:\n",
        "            print('*' * (rows * 2 - i))\n",
        "num_rows = 5\n",
        "print_pattern(num_rows)\n"
      ],
      "metadata": {
        "colab": {
          "base_uri": "https://localhost:8080/"
        },
        "id": "5Qx-QolDS0W7",
        "outputId": "8b8f0c74-d473-467a-a902-f19e751a93de"
      },
      "execution_count": 8,
      "outputs": [
        {
          "output_type": "stream",
          "name": "stdout",
          "text": [
            "*\n",
            "**\n",
            "***\n",
            "****\n",
            "*****\n",
            "****\n",
            "***\n",
            "**\n",
            "*\n"
          ]
        }
      ]
    },
    {
      "cell_type": "code",
      "source": [
        "#Write a Python program to accept a string value from the user and display\n",
        "#the count of each character in that string. Sample input: Enter a string\n",
        "#value: assembly Sample output: a=1, s=2, e=1, m=1, b=1, l=1, y=1\n",
        "\n",
        "user_input = input(\"Enter a string value: \")\n",
        "char_count = {}\n",
        "\n",
        "for char in user_input:\n",
        "    if char in char_count:\n",
        "        char_count[char] += 1\n",
        "    else:\n",
        "        char_count[char] = 1\n",
        "\n",
        "output = []\n",
        "for char, count in char_count.items():\n",
        "    output.append(f\"{char}={count}\")\n",
        "\n",
        "print(\", \".join(output))"
      ],
      "metadata": {
        "colab": {
          "base_uri": "https://localhost:8080/"
        },
        "id": "5D8ANQIySKaM",
        "outputId": "d6916e69-8b0f-4674-ca15-3bb3a2452249"
      },
      "execution_count": 11,
      "outputs": [
        {
          "output_type": "stream",
          "name": "stdout",
          "text": [
            "Enter a string value: assembly\n",
            "a=1, s=2, e=1, m=1, b=1, l=1, y=1\n"
          ]
        }
      ]
    },
    {
      "cell_type": "code",
      "source": [
        "def max_of_three(a, b, c):\n",
        "\n",
        "    if a >= b and a >= c:\n",
        "        return a\n",
        "    elif b >= a and b >= c:\n",
        "        return b\n",
        "    else:\n",
        "        return c\n",
        "\n",
        "num1 = 34\n",
        "num2 = 12\n",
        "num3 = 7\n",
        "result = max_of_three(num1, num2, num3)\n",
        "print(result)"
      ],
      "metadata": {
        "colab": {
          "base_uri": "https://localhost:8080/"
        },
        "id": "JrNecpQ3X_0g",
        "outputId": "af4cedf2-772a-4aa2-93b8-6244bb7942d0"
      },
      "execution_count": 12,
      "outputs": [
        {
          "output_type": "stream",
          "name": "stdout",
          "text": [
            "34\n"
          ]
        }
      ]
    },
    {
      "cell_type": "code",
      "source": [
        "def exponent(base, exp):\n",
        "    return base ** exp\n",
        "\n",
        "def main():\n",
        "    # Prompt the user for input\n",
        "    base = int(input(\"Enter the base: \"))\n",
        "    exp = int(input(\"Enter the exponent: \"))\n",
        "\n",
        "    # Calculate the result using the exponent function\n",
        "    result = exponent(base, exp)\n",
        "\n",
        "    # Print the result\n",
        "    print(result)\n",
        "\n",
        "# Execute the main function\n",
        "if __name__ == \"__main__\":\n",
        "    main()"
      ],
      "metadata": {
        "colab": {
          "base_uri": "https://localhost:8080/"
        },
        "id": "flw-vW51YmSK",
        "outputId": "c8eaf585-f828-4260-f6f8-c4bf6781e8e0"
      },
      "execution_count": 14,
      "outputs": [
        {
          "output_type": "stream",
          "name": "stdout",
          "text": [
            "Enter the base: 2\n",
            "Enter the exponent: 3\n",
            "8\n"
          ]
        }
      ]
    },
    {
      "cell_type": "code",
      "source": [
        "def sum_of_cubes(n):\n",
        "    sum_cubes = 0\n",
        "    for i in range(1, n):\n",
        "        sum_cubes += i ** 3\n",
        "    return sum_cubes\n",
        "\n",
        "def main():\n",
        "    number = int(input(\"Enter a positive integer: \"))\n",
        "\n",
        "\n",
        "    if number <= 0:\n",
        "        print(\"Please enter a positive integer.\")\n",
        "    else:\n",
        "        result = sum_of_cubes(number)\n",
        "        print(result)\n",
        "\n",
        "if __name__ == \"__main__\":\n",
        "    main()"
      ],
      "metadata": {
        "colab": {
          "base_uri": "https://localhost:8080/"
        },
        "id": "7puFeZInbRmr",
        "outputId": "b6969e7c-0b5d-42b8-b971-6ead60afe073"
      },
      "execution_count": 21,
      "outputs": [
        {
          "output_type": "stream",
          "name": "stdout",
          "text": [
            "Enter a positive integer: 4\n",
            "36\n"
          ]
        }
      ]
    },
    {
      "cell_type": "code",
      "source": [
        "def fizzbuzz():\n",
        "    for i in range(1, 11):\n",
        "        if i % 2 == 0 and i % 5 == 0:\n",
        "            print(\"FizzBuzz\")\n",
        "        elif i % 2 == 0:\n",
        "            print(\"Fizz\")\n",
        "        elif i % 5 == 0:\n",
        "            print(\"Buzz\")\n",
        "        else:\n",
        "            print(i)\n",
        "\n",
        "fizzbuzz()"
      ],
      "metadata": {
        "colab": {
          "base_uri": "https://localhost:8080/"
        },
        "id": "ZOw7VYKTdH7q",
        "outputId": "a7b1305c-b221-4230-e7da-bcee72b05f3a"
      },
      "execution_count": 22,
      "outputs": [
        {
          "output_type": "stream",
          "name": "stdout",
          "text": [
            "1\n",
            "Fizz\n",
            "3\n",
            "Fizz\n",
            "Buzz\n",
            "Fizz\n",
            "7\n",
            "Fizz\n",
            "9\n",
            "FizzBuzz\n"
          ]
        }
      ]
    },
    {
      "cell_type": "code",
      "source": [
        "def most_frequent_item(numbers):\n",
        "    frequency = {}\n",
        "\n",
        "    for number in numbers:\n",
        "        if number in frequency:\n",
        "            frequency[number] += 1\n",
        "        else:\n",
        "            frequency[number] = 1\n",
        "    most_frequent = max(frequency, key=frequency.get)\n",
        "    return most_frequent\n",
        "\n",
        "\n",
        "numbers = [2, 3, 4, 2, 5, 2]\n",
        "result = most_frequent_item(numbers)\n",
        "print(result)"
      ],
      "metadata": {
        "colab": {
          "base_uri": "https://localhost:8080/"
        },
        "id": "TQaFszqtdQpT",
        "outputId": "5318bcef-487d-4d15-8df0-61692ad17d54"
      },
      "execution_count": 23,
      "outputs": [
        {
          "output_type": "stream",
          "name": "stdout",
          "text": [
            "2\n"
          ]
        }
      ]
    },
    {
      "cell_type": "code",
      "source": [
        "def sum_of_squares(numbers):\n",
        "    total = 0\n",
        "    for num in numbers:\n",
        "        total += num ** 2\n",
        "    return total\n",
        "\n",
        "numbers = [2, 1, 3, 1]\n",
        "result = sum_of_squares(numbers)\n",
        "print(result)"
      ],
      "metadata": {
        "colab": {
          "base_uri": "https://localhost:8080/"
        },
        "id": "WsOZ2zTifUDu",
        "outputId": "0211fe68-d112-4ba7-cb22-00e58ae6540b"
      },
      "execution_count": 24,
      "outputs": [
        {
          "output_type": "stream",
          "name": "stdout",
          "text": [
            "15\n"
          ]
        }
      ]
    },
    {
      "cell_type": "code",
      "source": [
        "for i in range(1, 16):\n",
        "    if i % 2 == 0:\n",
        "        print(f\"{i}-even\")\n",
        "    else:\n",
        "        print(f\"{i}-odd\")"
      ],
      "metadata": {
        "colab": {
          "base_uri": "https://localhost:8080/"
        },
        "id": "uaiP_ubjgD0I",
        "outputId": "afc39e8a-8d38-4efa-d385-dd70e9e0fcb0"
      },
      "execution_count": 30,
      "outputs": [
        {
          "output_type": "stream",
          "name": "stdout",
          "text": [
            "1-odd\n",
            "2-even\n",
            "3-odd\n",
            "4-even\n",
            "5-odd\n",
            "6-even\n",
            "7-odd\n",
            "8-even\n",
            "9-odd\n",
            "10-even\n",
            "11-odd\n",
            "12-even\n",
            "13-odd\n",
            "14-even\n",
            "15-odd\n"
          ]
        }
      ]
    },
    {
      "cell_type": "code",
      "source": [
        "def fahrenheit_to_celsius(fahrenheit):\n",
        "    celsius = (fahrenheit - 32) * 5 / 9\n",
        "    return celsius\n",
        "\n",
        "fahrenheit = float(input(\"Temperature in Fahrenheit: \"))\n",
        "\n",
        "print(f\"Temperature in Celsius: {fahrenheit_to_celsius(fahrenheit)}\")"
      ],
      "metadata": {
        "colab": {
          "base_uri": "https://localhost:8080/"
        },
        "id": "Hfe91qvDhFQf",
        "outputId": "37c346b5-0952-4b12-ed99-ab25a02c12cf"
      },
      "execution_count": 33,
      "outputs": [
        {
          "output_type": "stream",
          "name": "stdout",
          "text": [
            "Temperature in Fahrenheit: 100\n",
            "Temperature in Celsius: 37.77777777777778\n"
          ]
        }
      ]
    },
    {
      "cell_type": "code",
      "source": [
        "def factorial(n):\n",
        "    if n < 0:\n",
        "        return \"its a negative number.\"\n",
        "    elif n == 0:\n",
        "        return 0\n",
        "    else:\n",
        "        result = 1\n",
        "        for i in range(1, n + 1):\n",
        "            result *= i\n",
        "        return result\n",
        "\n",
        "\n",
        "print(factorial(3))"
      ],
      "metadata": {
        "colab": {
          "base_uri": "https://localhost:8080/"
        },
        "id": "arJrymxAi2z1",
        "outputId": "1f7a405c-ced4-47c0-ee27-bf750489a8db"
      },
      "execution_count": 39,
      "outputs": [
        {
          "output_type": "stream",
          "name": "stdout",
          "text": [
            "6\n"
          ]
        }
      ]
    }
  ]
}